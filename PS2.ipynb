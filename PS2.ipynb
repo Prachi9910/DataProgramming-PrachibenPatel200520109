{
 "cells": [
  {
   "cell_type": "markdown",
   "id": "3d4450e7",
   "metadata": {},
   "source": [
    "## Prachi Patel - 200520109 "
   ]
  },
  {
   "cell_type": "markdown",
   "id": "a8fe89ef",
   "metadata": {},
   "source": [
    "## Problem Set - 2   \n"
   ]
  },
  {
   "cell_type": "markdown",
   "id": "fb6af16a",
   "metadata": {},
   "source": [
    " ---------------------------------------------------------------------------------------------"
   ]
  },
  {
   "cell_type": "markdown",
   "id": "00d6f49d",
   "metadata": {},
   "source": [
    "#### -> Que 1 - Consider the following Python module: "
   ]
  },
  {
   "cell_type": "code",
   "execution_count": 11,
   "id": "3af1d455",
   "metadata": {},
   "outputs": [],
   "source": [
    "a = 0\n",
    "def b():\n",
    "    global a\n",
    "    a = c(a)\n",
    "def c(a):\n",
    "    return a + 2"
   ]
  },
  {
   "cell_type": "code",
   "execution_count": 12,
   "id": "0522d407",
   "metadata": {},
   "outputs": [
    {
     "data": {
      "text/plain": [
       "2"
      ]
     },
     "execution_count": 12,
     "metadata": {},
     "output_type": "execute_result"
    }
   ],
   "source": [
    "b()\n",
    "a #value of a was 0 after running the b function, it became 0 + 2 = 2."
   ]
  },
  {
   "cell_type": "code",
   "execution_count": 13,
   "id": "f78a4c0a",
   "metadata": {},
   "outputs": [
    {
     "data": {
      "text/plain": [
       "4"
      ]
     },
     "execution_count": 13,
     "metadata": {},
     "output_type": "execute_result"
    }
   ],
   "source": [
    "b()\n",
    "a #as a was 2 then after running again b(), it became 2 + 2 = 4."
   ]
  },
  {
   "cell_type": "code",
   "execution_count": 14,
   "id": "e1646d4a",
   "metadata": {},
   "outputs": [
    {
     "data": {
      "text/plain": [
       "6"
      ]
     },
     "execution_count": 14,
     "metadata": {},
     "output_type": "execute_result"
    }
   ],
   "source": [
    "b()\n",
    "a #yes again a was 4, after b(), 4 + 2 = 6."
   ]
  },
  {
   "cell_type": "markdown",
   "id": "39b719f1",
   "metadata": {},
   "source": [
    " "
   ]
  },
  {
   "cell_type": "markdown",
   "id": "a9a183b1",
   "metadata": {},
   "source": [
    "#### -> Que 2 - Function fileLength(), given to you, takes the name of a file as input and returns the length of the file: "
   ]
  },
  {
   "cell_type": "raw",
   "id": "e9692e1c",
   "metadata": {},
   "source": [
    ">>> fileLength('midterm.py') \n",
    "284 \n",
    ">>> fileLength('idterm.py') \n",
    "Traceback (most recent call last):   \n",
    "File \"<pyshell#34>\", line 1, in <module>    \n",
    "fileLength('idterm.py')\n",
    "File \"/Users/me/midterm.py\", line 3, in fileLength     \n",
    "infile = open(filename) FileNotFoundError: [Errno 2] \n",
    "No such file or directory: 'idterm.py' "
   ]
  },
  {
   "cell_type": "markdown",
   "id": "e2bbb1b4",
   "metadata": {},
   "source": [
    "As shown above, if the file cannot be found by the interpreter or if it cannot be read as a text file, an exception will be raised. Modify function fileLength() so that a friendly message is printed instead: "
   ]
  },
  {
   "cell_type": "code",
   "execution_count": 21,
   "id": "0bb74589",
   "metadata": {},
   "outputs": [],
   "source": [
    "def file_Length(filename):\n",
    "    try:\n",
    "        infile = open (filename,'r')\n",
    "        content = infile.read ()\n",
    "        lenn = len(content)\n",
    "        print (lenn)\n",
    "        infile.close()\n",
    "    except :\n",
    "        print (\"File \" + format (filename) + \" not found\")"
   ]
  },
  {
   "cell_type": "code",
   "execution_count": 22,
   "id": "9ce91b1c",
   "metadata": {},
   "outputs": [
    {
     "name": "stdout",
     "output_type": "stream",
     "text": [
      "File idterm.py not found\n"
     ]
    }
   ],
   "source": [
    "file_Length('idterm.py')"
   ]
  },
  {
   "cell_type": "code",
   "execution_count": 27,
   "id": "5d40a48c",
   "metadata": {},
   "outputs": [
    {
     "name": "stdout",
     "output_type": "stream",
     "text": [
      "File Documents/winter 2023/Data Programming/ps2/lengthtxt.txt not found\n"
     ]
    }
   ],
   "source": [
    "file_Length(\"Documents/winter 2023/Data Programming/ps2/lengthtxt.txt\") #maybe the interpreter location could not find "
   ]
  },
  {
   "cell_type": "code",
   "execution_count": 28,
   "id": "332d9d44",
   "metadata": {},
   "outputs": [
    {
     "name": "stdout",
     "output_type": "stream",
     "text": [
      "123\n"
     ]
    }
   ],
   "source": [
    "file_Length(\"lengthtxt.txt\")"
   ]
  },
  {
   "cell_type": "code",
   "execution_count": 29,
   "id": "08b9c5b4",
   "metadata": {},
   "outputs": [
    {
     "name": "stdout",
     "output_type": "stream",
     "text": [
      "23660\n"
     ]
    }
   ],
   "source": [
    "file_Length(\"PS1.ipynb\")"
   ]
  },
  {
   "cell_type": "markdown",
   "id": "89c199a4",
   "metadata": {},
   "source": [
    " "
   ]
  },
  {
   "cell_type": "markdown",
   "id": "4a5485db",
   "metadata": {},
   "source": [
    "#### -> Que 3 - Write a class named Marsupial that can be used as shown below: "
   ]
  },
  {
   "cell_type": "raw",
   "id": "ccfc6031",
   "metadata": {},
   "source": [
    ">>> m = Marsupial() \n",
    ">>> m.put_in_pouch('doll') \n",
    ">>> m.put_in_pouch('firetruck') \n",
    ">>> m.put_in_pouch('kitten') \n",
    ">>> m.pouch_contents()\n",
    "['doll', 'firetruck', 'kitten'] "
   ]
  },
  {
   "cell_type": "code",
   "execution_count": 53,
   "id": "06de24eb",
   "metadata": {},
   "outputs": [],
   "source": [
    "class Marsupial:\n",
    "    def __init__(self):\n",
    "        self.list = []\n",
    "\n",
    "    def put_in_pouch (self, item):\n",
    "        return self.list.append(item)\n",
    "\n",
    "    def pouch_contents(self):\n",
    "        return self.list\n",
    "    "
   ]
  },
  {
   "cell_type": "code",
   "execution_count": 54,
   "id": "98bd78b1",
   "metadata": {},
   "outputs": [
    {
     "data": {
      "text/plain": [
       "['doll', 'firetruck', 'kitten']"
      ]
     },
     "execution_count": 54,
     "metadata": {},
     "output_type": "execute_result"
    }
   ],
   "source": [
    "m = Marsupial()\n",
    "m.put_in_pouch('doll')\n",
    "m.put_in_pouch('firetruck')\n",
    "m.put_in_pouch('kitten')\n",
    "m.pouch_contents()"
   ]
  },
  {
   "cell_type": "markdown",
   "id": "154afe1f",
   "metadata": {},
   "source": [
    "Now write a class named Kangaroo as a subclass of Marsupial that inherits all the attributes of Marsupial and also: \n",
    "\n",
    "a. extends the Marsupial __init__ constructor to take, as input, the coordinates x and y of the Kangaroo object, \n",
    "\n",
    "b. supports method jump that takes number values dx and dy as input and moves the kangaroo by dx units along the x-axis and by dy units along the yaxis, and \n",
    "\n",
    "c. overloads the __str__ operator so it behaves as shown below. "
   ]
  },
  {
   "cell_type": "code",
   "execution_count": 55,
   "id": "d8987c78",
   "metadata": {},
   "outputs": [],
   "source": [
    "class Kangaroo (Marsupial):\n",
    "    def __init__(self,x=0,y=0):\n",
    "        self.list = []\n",
    "        self.x = x\n",
    "        self.y = y      \n",
    "    def jump (self,dx,dy):\n",
    "        self.x+=dx\n",
    "        self.y+=dy      \n",
    "    def __str__(self): \n",
    "        return ('I am a Kangaroo located at coordinates ({},{})'.format(self.x, self.y))"
   ]
  },
  {
   "cell_type": "code",
   "execution_count": 56,
   "id": "5ac12d5b",
   "metadata": {},
   "outputs": [
    {
     "name": "stdout",
     "output_type": "stream",
     "text": [
      "I am a Kangaroo located at coordinates (0,0)\n"
     ]
    }
   ],
   "source": [
    "k = Kangaroo(0,0)\n",
    "print (k)"
   ]
  },
  {
   "cell_type": "code",
   "execution_count": 57,
   "id": "94165501",
   "metadata": {},
   "outputs": [
    {
     "data": {
      "text/plain": [
       "['doll', 'firetruck', 'kitten']"
      ]
     },
     "execution_count": 57,
     "metadata": {},
     "output_type": "execute_result"
    }
   ],
   "source": [
    "k.put_in_pouch('doll')\n",
    "k.put_in_pouch('firetruck')\n",
    "k.put_in_pouch('kitten')\n",
    "k.pouch_contents()"
   ]
  },
  {
   "cell_type": "code",
   "execution_count": 58,
   "id": "12f438b6",
   "metadata": {},
   "outputs": [
    {
     "name": "stdout",
     "output_type": "stream",
     "text": [
      "I am a Kangaroo located at coordinates (3,0)\n"
     ]
    }
   ],
   "source": [
    "k.jump(1,0)\n",
    "k.jump(1,0)\n",
    "k.jump(1,0)\n",
    "print(k)"
   ]
  },
  {
   "cell_type": "code",
   "execution_count": 59,
   "id": "8a9f82a2",
   "metadata": {},
   "outputs": [
    {
     "name": "stdout",
     "output_type": "stream",
     "text": [
      "I am a Kangaroo located at coordinates (5,0)\n"
     ]
    }
   ],
   "source": [
    "k.jump(2,0)\n",
    "print(k)"
   ]
  },
  {
   "cell_type": "code",
   "execution_count": null,
   "id": "d17bfa28",
   "metadata": {},
   "outputs": [],
   "source": []
  },
  {
   "cell_type": "markdown",
   "id": "2ae4e75c",
   "metadata": {},
   "source": [
    " "
   ]
  },
  {
   "cell_type": "markdown",
   "id": "bbcf038b",
   "metadata": {},
   "source": [
    "#### -> Que 4 - Write function collatz() that takes a positive integer x as input and prints the Collatz sequence starting at x. A Collatz sequence is obtained by repeatedly applying this rule to the previous number x in the sequence: \n",
    "##### x = {  𝑥/2                    𝑖𝑓 𝑥 𝑖𝑠 𝑒𝑣𝑒𝑛 3𝑥+1               𝑖𝑓 𝑥 𝑖𝑠 𝑜𝑑𝑑 \n",
    "#### Your function should stop when the sequence gets to number 1. Your implementation must be recursive, without any loops. "
   ]
  },
  {
   "cell_type": "code",
   "execution_count": 64,
   "id": "7b71f2a1",
   "metadata": {},
   "outputs": [],
   "source": [
    "def collatz(x):\n",
    "    print (x)\n",
    "    if x%2 == 1:\n",
    "        if x != 1:\n",
    "            x = int(3*x +1)\n",
    "            collatz(x)\n",
    "    else:\n",
    "        x = int(x/2)\n",
    "        collatz(x)"
   ]
  },
  {
   "cell_type": "code",
   "execution_count": 65,
   "id": "a8d9f097",
   "metadata": {},
   "outputs": [
    {
     "name": "stdout",
     "output_type": "stream",
     "text": [
      "1\n"
     ]
    }
   ],
   "source": [
    "collatz(1)"
   ]
  },
  {
   "cell_type": "code",
   "execution_count": 66,
   "id": "f9c7e1ee",
   "metadata": {},
   "outputs": [
    {
     "name": "stdout",
     "output_type": "stream",
     "text": [
      "10\n",
      "5\n",
      "16\n",
      "8\n",
      "4\n",
      "2\n",
      "1\n"
     ]
    }
   ],
   "source": [
    "collatz(10)"
   ]
  },
  {
   "cell_type": "code",
   "execution_count": 68,
   "id": "08e7dd6d",
   "metadata": {},
   "outputs": [
    {
     "name": "stdout",
     "output_type": "stream",
     "text": [
      "4\n",
      "2\n",
      "1\n"
     ]
    }
   ],
   "source": [
    "collatz(4)"
   ]
  },
  {
   "cell_type": "code",
   "execution_count": 69,
   "id": "5bf4e3f2",
   "metadata": {},
   "outputs": [
    {
     "name": "stdout",
     "output_type": "stream",
     "text": [
      "3\n",
      "10\n",
      "5\n",
      "16\n",
      "8\n",
      "4\n",
      "2\n",
      "1\n"
     ]
    }
   ],
   "source": [
    "collatz(3)"
   ]
  },
  {
   "cell_type": "code",
   "execution_count": 70,
   "id": "86648b6f",
   "metadata": {},
   "outputs": [
    {
     "name": "stdout",
     "output_type": "stream",
     "text": [
      "6\n",
      "3\n",
      "10\n",
      "5\n",
      "16\n",
      "8\n",
      "4\n",
      "2\n",
      "1\n"
     ]
    }
   ],
   "source": [
    "collatz(6)"
   ]
  },
  {
   "cell_type": "markdown",
   "id": "341f0ffd",
   "metadata": {},
   "source": [
    " "
   ]
  },
  {
   "cell_type": "markdown",
   "id": "de7c0f21",
   "metadata": {},
   "source": [
    "#### -> Que 5 - Write a recursive method binary() that takes a non-negative integer n and prints the binary representation of integer n. "
   ]
  },
  {
   "cell_type": "code",
   "execution_count": 73,
   "id": "1b5cac1d",
   "metadata": {},
   "outputs": [],
   "source": [
    "x = []\n",
    "def binary (n):\n",
    "    if n == 0:\n",
    "        print(0)\n",
    "    elif n == 1:\n",
    "        x.append(str(1))\n",
    "        x.reverse()\n",
    "        y= ''.join(x)\n",
    "        print (y)\n",
    "        x.clear()\n",
    "    elif n!=1:\n",
    "        z = n%2\n",
    "        x.append(str(z))\n",
    "        n = n//2\n",
    "        binary (n)"
   ]
  },
  {
   "cell_type": "code",
   "execution_count": 74,
   "id": "3e73bc70",
   "metadata": {},
   "outputs": [
    {
     "name": "stdout",
     "output_type": "stream",
     "text": [
      "0\n"
     ]
    }
   ],
   "source": [
    "binary(0) "
   ]
  },
  {
   "cell_type": "code",
   "execution_count": 75,
   "id": "61a02980",
   "metadata": {},
   "outputs": [
    {
     "name": "stdout",
     "output_type": "stream",
     "text": [
      "1\n"
     ]
    }
   ],
   "source": [
    "binary(1) "
   ]
  },
  {
   "cell_type": "code",
   "execution_count": 76,
   "id": "3c520288",
   "metadata": {},
   "outputs": [
    {
     "name": "stdout",
     "output_type": "stream",
     "text": [
      "11\n"
     ]
    }
   ],
   "source": [
    "binary(3) "
   ]
  },
  {
   "cell_type": "code",
   "execution_count": 77,
   "id": "c5cc0db8",
   "metadata": {},
   "outputs": [
    {
     "name": "stdout",
     "output_type": "stream",
     "text": [
      "1001\n"
     ]
    }
   ],
   "source": [
    "binary(9) "
   ]
  },
  {
   "cell_type": "code",
   "execution_count": 78,
   "id": "1d9c50ea",
   "metadata": {},
   "outputs": [
    {
     "name": "stdout",
     "output_type": "stream",
     "text": [
      "10\n"
     ]
    }
   ],
   "source": [
    "binary(2) "
   ]
  },
  {
   "cell_type": "code",
   "execution_count": 80,
   "id": "6f4ad962",
   "metadata": {},
   "outputs": [
    {
     "ename": "RecursionError",
     "evalue": "maximum recursion depth exceeded while getting the str of an object",
     "output_type": "error",
     "traceback": [
      "\u001b[0;31m---------------------------------------------------------------------------\u001b[0m",
      "\u001b[0;31mRecursionError\u001b[0m                            Traceback (most recent call last)",
      "Cell \u001b[0;32mIn[80], line 1\u001b[0m\n\u001b[0;32m----> 1\u001b[0m \u001b[43mbinary\u001b[49m\u001b[43m(\u001b[49m\u001b[38;5;241;43m-\u001b[39;49m\u001b[38;5;241;43m1\u001b[39;49m\u001b[43m)\u001b[49m  \u001b[38;5;66;03m# when user enters negative value. \u001b[39;00m\n",
      "Cell \u001b[0;32mIn[73], line 15\u001b[0m, in \u001b[0;36mbinary\u001b[0;34m(n)\u001b[0m\n\u001b[1;32m     13\u001b[0m x\u001b[38;5;241m.\u001b[39mappend(\u001b[38;5;28mstr\u001b[39m(z))\n\u001b[1;32m     14\u001b[0m n \u001b[38;5;241m=\u001b[39m n\u001b[38;5;241m/\u001b[39m\u001b[38;5;241m/\u001b[39m\u001b[38;5;241m2\u001b[39m\n\u001b[0;32m---> 15\u001b[0m \u001b[43mbinary\u001b[49m\u001b[43m \u001b[49m\u001b[43m(\u001b[49m\u001b[43mn\u001b[49m\u001b[43m)\u001b[49m\n",
      "Cell \u001b[0;32mIn[73], line 15\u001b[0m, in \u001b[0;36mbinary\u001b[0;34m(n)\u001b[0m\n\u001b[1;32m     13\u001b[0m x\u001b[38;5;241m.\u001b[39mappend(\u001b[38;5;28mstr\u001b[39m(z))\n\u001b[1;32m     14\u001b[0m n \u001b[38;5;241m=\u001b[39m n\u001b[38;5;241m/\u001b[39m\u001b[38;5;241m/\u001b[39m\u001b[38;5;241m2\u001b[39m\n\u001b[0;32m---> 15\u001b[0m \u001b[43mbinary\u001b[49m\u001b[43m \u001b[49m\u001b[43m(\u001b[49m\u001b[43mn\u001b[49m\u001b[43m)\u001b[49m\n",
      "    \u001b[0;31m[... skipping similar frames: binary at line 15 (2970 times)]\u001b[0m\n",
      "Cell \u001b[0;32mIn[73], line 15\u001b[0m, in \u001b[0;36mbinary\u001b[0;34m(n)\u001b[0m\n\u001b[1;32m     13\u001b[0m x\u001b[38;5;241m.\u001b[39mappend(\u001b[38;5;28mstr\u001b[39m(z))\n\u001b[1;32m     14\u001b[0m n \u001b[38;5;241m=\u001b[39m n\u001b[38;5;241m/\u001b[39m\u001b[38;5;241m/\u001b[39m\u001b[38;5;241m2\u001b[39m\n\u001b[0;32m---> 15\u001b[0m \u001b[43mbinary\u001b[49m\u001b[43m \u001b[49m\u001b[43m(\u001b[49m\u001b[43mn\u001b[49m\u001b[43m)\u001b[49m\n",
      "Cell \u001b[0;32mIn[73], line 13\u001b[0m, in \u001b[0;36mbinary\u001b[0;34m(n)\u001b[0m\n\u001b[1;32m     11\u001b[0m \u001b[38;5;28;01melif\u001b[39;00m n\u001b[38;5;241m!=\u001b[39m\u001b[38;5;241m1\u001b[39m:\n\u001b[1;32m     12\u001b[0m     z \u001b[38;5;241m=\u001b[39m n\u001b[38;5;241m%\u001b[39m\u001b[38;5;241m2\u001b[39m\n\u001b[0;32m---> 13\u001b[0m     x\u001b[38;5;241m.\u001b[39mappend(\u001b[38;5;28mstr\u001b[39m(z))\n\u001b[1;32m     14\u001b[0m     n \u001b[38;5;241m=\u001b[39m n\u001b[38;5;241m/\u001b[39m\u001b[38;5;241m/\u001b[39m\u001b[38;5;241m2\u001b[39m\n\u001b[1;32m     15\u001b[0m     binary (n)\n",
      "\u001b[0;31mRecursionError\u001b[0m: maximum recursion depth exceeded while getting the str of an object"
     ]
    }
   ],
   "source": [
    "binary(-1)  # when user enters negative value. "
   ]
  },
  {
   "cell_type": "markdown",
   "id": "87cfb4dc",
   "metadata": {},
   "source": [
    " "
   ]
  },
  {
   "cell_type": "markdown",
   "id": "5562c148",
   "metadata": {},
   "source": [
    "#### -> Que 6 - Implement a class named HeadingParser that can be used to parse an HTML document, and retrieve and print all the headings in the document. You should implement your class as a subclass of HTMLParser, defined in Standard Library module html.parser. When fed a string containing HTML code, your class should print the headings, one per line and in the order in which they appear in the document. Each heading should be indented as follows: an h1 heading should have indentation 0, and h2 heading should have indentation 1, etc. Test your implementation using w3c.html."
   ]
  },
  {
   "cell_type": "code",
   "execution_count": 94,
   "id": "db999f90",
   "metadata": {},
   "outputs": [],
   "source": [
    "from html.parser import HTMLParser\n",
    "class HeadingParser(HTMLParser):\n",
    "    def __init__(self):\n",
    "        HTMLParser.__init__(self)\n",
    "        self.indent=0\n",
    "        self.header = False\n",
    "        self.b = 0\n",
    "        \n",
    "    def handle_starttag(self, tag, attrs):\n",
    "        if tag == 'h1' or tag == 'h2':\n",
    "            self.header = True\n",
    "            self.b = re.findall(r'\\d+',tag)\n",
    "            self.indent += int(self.b[0])-1\n",
    "            \n",
    "    def handle_data(self, data):\n",
    "        if self.header == True:\n",
    "            print('{}{}'.format(self.indent*' ', data))\n",
    "\n",
    "    def handle_endtag(self, tag):\n",
    "        if tag == 'h1' or tag == 'h2':\n",
    "            self.header = False        "
   ]
  },
  {
   "cell_type": "code",
   "execution_count": 98,
   "id": "2981ba1d",
   "metadata": {},
   "outputs": [
    {
     "name": "stdout",
     "output_type": "stream",
     "text": [
      "<!DOCTYPE html>\n",
      "<html lang=\"en\">\n",
      "\n",
      "<head>\n",
      "  <meta name=\"description\" content=\"Webpage description goes here\" />\n",
      "  <meta charset=\"utf-8\">\n",
      "  <title>Change_me</title>\n",
      "  <meta name=\"viewport\" content=\"width=device-width, initial-scale=1\">\n",
      "  <meta name=\"author\" content=\"\">\n",
      "  <link rel=\"stylesheet\" href=\"css/style.css\">\n",
      "</head>\n",
      "\n",
      "<body>\n",
      "  \n",
      "\t<h1>W3C Mission</h1>\n",
      "\t<h2>Principles</h2>\n",
      " \n",
      "\n",
      "\n",
      "</body>\n",
      "</html>\n"
     ]
    }
   ],
   "source": [
    "infile = open ('w3c.txt')\n",
    "content = infile.read()\n",
    "infile.close()\n",
    "print(content)"
   ]
  },
  {
   "cell_type": "markdown",
   "id": "637cfeb6",
   "metadata": {},
   "source": [
    " "
   ]
  },
  {
   "cell_type": "markdown",
   "id": "3bc02f12",
   "metadata": {},
   "source": [
    "#### -> Que 7 - Implement recursive function webdir() that takes as input: a URL (as a string) and non-negative integers depth and indent. Your function should visit every web page reachable from the starting URL web page in depth clicks or less, and print each web page's URL. As shown below, indentation, specified by indent,  should be used to indicate the depth of a URL. "
   ]
  },
  {
   "cell_type": "code",
   "execution_count": 99,
   "id": "831e6bc2",
   "metadata": {},
   "outputs": [],
   "source": [
    "from urllib.request import urlopen\n",
    "from urllib.parse import urljoin\n",
    "from html.parser import HTMLParser\n",
    "class Collector(HTMLParser):\n",
    "    \n",
    "\n",
    "    def __init__(self, url):\n",
    "        \n",
    "        HTMLParser.__init__(self)\n",
    "        self.url = url\n",
    "        self.links = []\n",
    "\n",
    "    \n",
    "    def handle_starttag(self, tag, attrs):\n",
    "        \n",
    "        if tag == 'a':\n",
    "            for attr in attrs:\n",
    "                if attr[0] == 'href':\n",
    "                    \n",
    "                    absolute = urljoin(self.url, attr[1])\n",
    "                    if absolute[:4] == 'http': # collecting HTTP URLs\n",
    "                        self.links.append(absolute)\n",
    "                        \n",
    "    def getLinks(self):\n",
    "        \n",
    "        return self.links "
   ]
  },
  {
   "cell_type": "code",
   "execution_count": 100,
   "id": "a3529b48",
   "metadata": {},
   "outputs": [],
   "source": [
    "def webdir(url, depth, indent):\n",
    "        for i in range(indent+1):\n",
    "            print(\"\\t\",end='')\n",
    "        print(url)\n",
    "    \n",
    "        \n",
    "        content = urlopen(url).read().decode()\n",
    "        collector = Collector(url)\n",
    "        collector.feed(content)\n",
    "        urls = collector.getLinks()\n",
    "    \n",
    "        for o in range(depth):\n",
    "            try:                    \n",
    "                webdir(urls[o], depth-1, indent+1)\n",
    "            except:\n",
    "                pass"
   ]
  },
  {
   "cell_type": "code",
   "execution_count": 101,
   "id": "b588bc01",
   "metadata": {},
   "outputs": [
    {
     "name": "stdout",
     "output_type": "stream",
     "text": [
      "\thttp://reed.cs.depaul.edu/lperkovic/one.html\n",
      "\t\thttp://reed.cs.depaul.edu/lperkovic/two.html\n",
      "\t\t\thttp://reed.cs.depaul.edu/lperkovic/four.html\n",
      "\t\thttp://reed.cs.depaul.edu/lperkovic/three.html\n",
      "\t\t\thttp://reed.cs.depaul.edu/lperkovic/four.html\n"
     ]
    }
   ],
   "source": [
    "webdir('http://reed.cs.depaul.edu/lperkovic/one.html',2,0)"
   ]
  },
  {
   "cell_type": "code",
   "execution_count": 106,
   "id": "bf621dca",
   "metadata": {},
   "outputs": [
    {
     "name": "stdout",
     "output_type": "stream",
     "text": [
      "\t\t\thttp://reed.cs.depaul.edu/lperkovic/one.html\n",
      "\t\t\t\thttp://reed.cs.depaul.edu/lperkovic/two.html\n",
      "\t\t\t\t\thttp://reed.cs.depaul.edu/lperkovic/four.html\n",
      "\t\t\t\thttp://reed.cs.depaul.edu/lperkovic/three.html\n",
      "\t\t\t\t\thttp://reed.cs.depaul.edu/lperkovic/four.html\n"
     ]
    }
   ],
   "source": [
    "webdir('http://reed.cs.depaul.edu/lperkovic/one.html',2,2)"
   ]
  },
  {
   "cell_type": "code",
   "execution_count": 107,
   "id": "2ce3585a",
   "metadata": {},
   "outputs": [
    {
     "name": "stdout",
     "output_type": "stream",
     "text": [
      "\thttp://reed.cs.depaul.edu/lperkovic/one.html\n",
      "\t\thttp://reed.cs.depaul.edu/lperkovic/two.html\n"
     ]
    }
   ],
   "source": [
    "webdir('http://reed.cs.depaul.edu/lperkovic/one.html',1,0)"
   ]
  },
  {
   "cell_type": "markdown",
   "id": "843849a9",
   "metadata": {},
   "source": [
    " "
   ]
  },
  {
   "cell_type": "markdown",
   "id": "35918eb8",
   "metadata": {},
   "source": [
    "##### ***** "
   ]
  },
  {
   "cell_type": "markdown",
   "id": "77efc81c",
   "metadata": {},
   "source": [
    "SQL part - installation and updation for que 8 "
   ]
  },
  {
   "cell_type": "code",
   "execution_count": 116,
   "id": "7ef59842",
   "metadata": {},
   "outputs": [
    {
     "name": "stdout",
     "output_type": "stream",
     "text": [
      "Python 3.11.2\r\n"
     ]
    }
   ],
   "source": [
    "!python3 --version"
   ]
  },
  {
   "cell_type": "code",
   "execution_count": 117,
   "id": "ef2bb728",
   "metadata": {},
   "outputs": [
    {
     "name": "stdout",
     "output_type": "stream",
     "text": [
      "pip 22.3.1 from /Library/Frameworks/Python.framework/Versions/3.11/lib/python3.11/site-packages/pip (python 3.11)\r\n"
     ]
    }
   ],
   "source": [
    "!python3 -m pip --version"
   ]
  },
  {
   "cell_type": "code",
   "execution_count": 118,
   "id": "d3015789",
   "metadata": {},
   "outputs": [
    {
     "name": "stdout",
     "output_type": "stream",
     "text": [
      "Looking in links: /var/folders/58/_jqs5mks0wd9sdp783dx8nhc0000gn/T/tmph3u0e4s2\r\n",
      "Requirement already satisfied: setuptools in /Library/Frameworks/Python.framework/Versions/3.11/lib/python3.11/site-packages (65.5.0)\r\n",
      "Requirement already satisfied: pip in /Library/Frameworks/Python.framework/Versions/3.11/lib/python3.11/site-packages (22.3.1)\r\n"
     ]
    }
   ],
   "source": [
    "!python3 -m ensurepip --default-pip"
   ]
  },
  {
   "cell_type": "code",
   "execution_count": 120,
   "id": "1bdfbde2",
   "metadata": {},
   "outputs": [],
   "source": [
    "!python3 -m venv tutorial_env\n"
   ]
  },
  {
   "cell_type": "code",
   "execution_count": 124,
   "id": "f511d74b",
   "metadata": {},
   "outputs": [
    {
     "name": "stdout",
     "output_type": "stream",
     "text": [
      "\u001b[31mERROR: Could not find a version that satisfies the requirement SomeProject (from versions: none)\u001b[0m\u001b[31m\r\n",
      "\u001b[0m\u001b[31mERROR: No matching distribution found for SomeProject\u001b[0m\u001b[31m\r\n",
      "\u001b[0m\r\n",
      "\u001b[1m[\u001b[0m\u001b[34;49mnotice\u001b[0m\u001b[1;39;49m]\u001b[0m\u001b[39;49m A new release of pip available: \u001b[0m\u001b[31;49m22.3.1\u001b[0m\u001b[39;49m -> \u001b[0m\u001b[32;49m23.0.1\u001b[0m\r\n",
      "\u001b[1m[\u001b[0m\u001b[34;49mnotice\u001b[0m\u001b[1;39;49m]\u001b[0m\u001b[39;49m To update, run: \u001b[0m\u001b[32;49mpip3 install --upgrade pip\u001b[0m\r\n"
     ]
    }
   ],
   "source": [
    "!python3 -m pip install \"SomeProject\""
   ]
  },
  {
   "cell_type": "code",
   "execution_count": 125,
   "id": "0291a9cc",
   "metadata": {},
   "outputs": [
    {
     "name": "stdout",
     "output_type": "stream",
     "text": [
      "Requirement already satisfied: pip in /Library/Frameworks/Python.framework/Versions/3.11/lib/python3.11/site-packages (22.3.1)\n",
      "Collecting pip\n",
      "  Downloading pip-23.0.1-py3-none-any.whl (2.1 MB)\n",
      "\u001b[2K     \u001b[90m━━━━━━━━━━━━━━━━━━━━━━━━━━━━━━━━━━━━━━━━\u001b[0m \u001b[32m2.1/2.1 MB\u001b[0m \u001b[31m31.1 MB/s\u001b[0m eta \u001b[36m0:00:00\u001b[0ma \u001b[36m0:00:01\u001b[0m\n",
      "\u001b[?25hInstalling collected packages: pip\n",
      "  Attempting uninstall: pip\n",
      "    Found existing installation: pip 22.3.1\n",
      "    Uninstalling pip-22.3.1:\n",
      "      Successfully uninstalled pip-22.3.1\n",
      "Successfully installed pip-23.0.1\n"
     ]
    }
   ],
   "source": [
    "!pip3 install --upgrade pip"
   ]
  },
  {
   "cell_type": "code",
   "execution_count": 128,
   "id": "c6655298",
   "metadata": {},
   "outputs": [
    {
     "name": "stdout",
     "output_type": "stream",
     "text": [
      "Collecting ipython-sql\n",
      "  Downloading ipython_sql-0.4.1-py3-none-any.whl (21 kB)\n",
      "Collecting prettytable<1\n",
      "  Downloading prettytable-0.7.2.zip (28 kB)\n",
      "  Preparing metadata (setup.py) ... \u001b[?25ldone\n",
      "\u001b[?25hRequirement already satisfied: ipython>=1.0 in /Library/Frameworks/Python.framework/Versions/3.11/lib/python3.11/site-packages (from ipython-sql) (8.10.0)\n",
      "Collecting sqlalchemy>=0.6.7\n",
      "  Downloading SQLAlchemy-2.0.4-cp311-cp311-macosx_11_0_arm64.whl (1.9 MB)\n",
      "\u001b[2K     \u001b[90m━━━━━━━━━━━━━━━━━━━━━━━━━━━━━━━━━━━━━━━━\u001b[0m \u001b[32m1.9/1.9 MB\u001b[0m \u001b[31m27.5 MB/s\u001b[0m eta \u001b[36m0:00:00\u001b[0ma \u001b[36m0:00:01\u001b[0m\n",
      "\u001b[?25hCollecting sqlparse\n",
      "  Downloading sqlparse-0.4.3-py3-none-any.whl (42 kB)\n",
      "\u001b[2K     \u001b[90m━━━━━━━━━━━━━━━━━━━━━━━━━━━━━━━━━━━━━━━━\u001b[0m \u001b[32m42.8/42.8 kB\u001b[0m \u001b[31m6.2 MB/s\u001b[0m eta \u001b[36m0:00:00\u001b[0m\n",
      "\u001b[?25hRequirement already satisfied: six in /Library/Frameworks/Python.framework/Versions/3.11/lib/python3.11/site-packages (from ipython-sql) (1.16.0)\n",
      "Requirement already satisfied: ipython-genutils>=0.1.0 in /Library/Frameworks/Python.framework/Versions/3.11/lib/python3.11/site-packages (from ipython-sql) (0.2.0)\n",
      "Requirement already satisfied: backcall in /Library/Frameworks/Python.framework/Versions/3.11/lib/python3.11/site-packages (from ipython>=1.0->ipython-sql) (0.2.0)\n",
      "Requirement already satisfied: decorator in /Library/Frameworks/Python.framework/Versions/3.11/lib/python3.11/site-packages (from ipython>=1.0->ipython-sql) (5.1.1)\n",
      "Requirement already satisfied: jedi>=0.16 in /Library/Frameworks/Python.framework/Versions/3.11/lib/python3.11/site-packages (from ipython>=1.0->ipython-sql) (0.18.2)\n",
      "Requirement already satisfied: matplotlib-inline in /Library/Frameworks/Python.framework/Versions/3.11/lib/python3.11/site-packages (from ipython>=1.0->ipython-sql) (0.1.6)\n",
      "Requirement already satisfied: pickleshare in /Library/Frameworks/Python.framework/Versions/3.11/lib/python3.11/site-packages (from ipython>=1.0->ipython-sql) (0.7.5)\n",
      "Requirement already satisfied: prompt-toolkit<3.1.0,>=3.0.30 in /Library/Frameworks/Python.framework/Versions/3.11/lib/python3.11/site-packages (from ipython>=1.0->ipython-sql) (3.0.37)\n",
      "Requirement already satisfied: pygments>=2.4.0 in /Library/Frameworks/Python.framework/Versions/3.11/lib/python3.11/site-packages (from ipython>=1.0->ipython-sql) (2.14.0)\n",
      "Requirement already satisfied: stack-data in /Library/Frameworks/Python.framework/Versions/3.11/lib/python3.11/site-packages (from ipython>=1.0->ipython-sql) (0.6.2)\n",
      "Requirement already satisfied: traitlets>=5 in /Library/Frameworks/Python.framework/Versions/3.11/lib/python3.11/site-packages (from ipython>=1.0->ipython-sql) (5.9.0)\n",
      "Requirement already satisfied: pexpect>4.3 in /Library/Frameworks/Python.framework/Versions/3.11/lib/python3.11/site-packages (from ipython>=1.0->ipython-sql) (4.8.0)\n",
      "Requirement already satisfied: appnope in /Library/Frameworks/Python.framework/Versions/3.11/lib/python3.11/site-packages (from ipython>=1.0->ipython-sql) (0.1.3)\n",
      "Collecting typing-extensions>=4.2.0\n",
      "  Downloading typing_extensions-4.5.0-py3-none-any.whl (27 kB)\n",
      "Requirement already satisfied: parso<0.9.0,>=0.8.0 in /Library/Frameworks/Python.framework/Versions/3.11/lib/python3.11/site-packages (from jedi>=0.16->ipython>=1.0->ipython-sql) (0.8.3)\n",
      "Requirement already satisfied: ptyprocess>=0.5 in /Library/Frameworks/Python.framework/Versions/3.11/lib/python3.11/site-packages (from pexpect>4.3->ipython>=1.0->ipython-sql) (0.7.0)\n",
      "Requirement already satisfied: wcwidth in /Library/Frameworks/Python.framework/Versions/3.11/lib/python3.11/site-packages (from prompt-toolkit<3.1.0,>=3.0.30->ipython>=1.0->ipython-sql) (0.2.6)\n",
      "Requirement already satisfied: executing>=1.2.0 in /Library/Frameworks/Python.framework/Versions/3.11/lib/python3.11/site-packages (from stack-data->ipython>=1.0->ipython-sql) (1.2.0)\n",
      "Requirement already satisfied: asttokens>=2.1.0 in /Library/Frameworks/Python.framework/Versions/3.11/lib/python3.11/site-packages (from stack-data->ipython>=1.0->ipython-sql) (2.2.1)\n",
      "Requirement already satisfied: pure-eval in /Library/Frameworks/Python.framework/Versions/3.11/lib/python3.11/site-packages (from stack-data->ipython>=1.0->ipython-sql) (0.2.2)\n",
      "Installing collected packages: prettytable, typing-extensions, sqlparse, sqlalchemy, ipython-sql\n",
      "\u001b[33m  DEPRECATION: prettytable is being installed using the legacy 'setup.py install' method, because it does not have a 'pyproject.toml' and the 'wheel' package is not installed. pip 23.1 will enforce this behaviour change. A possible replacement is to enable the '--use-pep517' option. Discussion can be found at https://github.com/pypa/pip/issues/8559\u001b[0m\u001b[33m\n",
      "\u001b[0m  Running setup.py install for prettytable ... \u001b[?25ldone\n",
      "\u001b[?25hSuccessfully installed ipython-sql-0.4.1 prettytable-0.7.2 sqlalchemy-2.0.4 sqlparse-0.4.3 typing-extensions-4.5.0\n"
     ]
    }
   ],
   "source": [
    "## installation of sql\n",
    "!pip install ipython-sql"
   ]
  },
  {
   "cell_type": "code",
   "execution_count": 129,
   "id": "aacace94",
   "metadata": {},
   "outputs": [
    {
     "name": "stdout",
     "output_type": "stream",
     "text": [
      "Collecting pysqlite3\n",
      "  Using cached pysqlite3-0.5.0.tar.gz (40 kB)\n",
      "  Preparing metadata (setup.py) ... \u001b[?25ldone\n",
      "\u001b[?25hInstalling collected packages: pysqlite3\n",
      "\u001b[33m  DEPRECATION: pysqlite3 is being installed using the legacy 'setup.py install' method, because it does not have a 'pyproject.toml' and the 'wheel' package is not installed. pip 23.1 will enforce this behaviour change. A possible replacement is to enable the '--use-pep517' option. Discussion can be found at https://github.com/pypa/pip/issues/8559\u001b[0m\u001b[33m\n",
      "\u001b[0m  Running setup.py install for pysqlite3 ... \u001b[?25lerror\n",
      "  \u001b[1;31merror\u001b[0m: \u001b[1msubprocess-exited-with-error\u001b[0m\n",
      "  \n",
      "  \u001b[31m×\u001b[0m \u001b[32mRunning setup.py install for pysqlite3\u001b[0m did not run successfully.\n",
      "  \u001b[31m│\u001b[0m exit code: \u001b[1;36m1\u001b[0m\n",
      "  \u001b[31m╰─>\u001b[0m \u001b[31m[43 lines of output]\u001b[0m\n",
      "  \u001b[31m   \u001b[0m running install\n",
      "  \u001b[31m   \u001b[0m /Library/Frameworks/Python.framework/Versions/3.11/lib/python3.11/site-packages/setuptools/command/install.py:34: SetuptoolsDeprecationWarning: setup.py install is deprecated. Use build and pip and other standards-based tools.\n",
      "  \u001b[31m   \u001b[0m   warnings.warn(\n",
      "  \u001b[31m   \u001b[0m running build\n",
      "  \u001b[31m   \u001b[0m running build_py\n",
      "  \u001b[31m   \u001b[0m creating build\n",
      "  \u001b[31m   \u001b[0m creating build/lib.macosx-10.9-universal2-cpython-311\n",
      "  \u001b[31m   \u001b[0m creating build/lib.macosx-10.9-universal2-cpython-311/pysqlite3\n",
      "  \u001b[31m   \u001b[0m copying pysqlite3/__init__.py -> build/lib.macosx-10.9-universal2-cpython-311/pysqlite3\n",
      "  \u001b[31m   \u001b[0m copying pysqlite3/dbapi2.py -> build/lib.macosx-10.9-universal2-cpython-311/pysqlite3\n",
      "  \u001b[31m   \u001b[0m running build_ext\n",
      "  \u001b[31m   \u001b[0m Builds a C extension linking against libsqlite3 library\n",
      "  \u001b[31m   \u001b[0m building 'pysqlite3._sqlite3' extension\n",
      "  \u001b[31m   \u001b[0m creating build/temp.macosx-10.9-universal2-cpython-311\n",
      "  \u001b[31m   \u001b[0m creating build/temp.macosx-10.9-universal2-cpython-311/src\n",
      "  \u001b[31m   \u001b[0m clang -Wsign-compare -Wunreachable-code -fno-common -dynamic -DNDEBUG -g -fwrapv -O3 -Wall -arch arm64 -arch x86_64 -g -Qunused-arguments -DMODULE_NAME=\\\"pysqlite3.dbapi2\\\" -I/usr/include -I/Library/Frameworks/Python.framework/Versions/3.11/include/python3.11 -c src/blob.c -o build/temp.macosx-10.9-universal2-cpython-311/src/blob.o\n",
      "  \u001b[31m   \u001b[0m clang -Wsign-compare -Wunreachable-code -fno-common -dynamic -DNDEBUG -g -fwrapv -O3 -Wall -arch arm64 -arch x86_64 -g -Qunused-arguments -DMODULE_NAME=\\\"pysqlite3.dbapi2\\\" -I/usr/include -I/Library/Frameworks/Python.framework/Versions/3.11/include/python3.11 -c src/cache.c -o build/temp.macosx-10.9-universal2-cpython-311/src/cache.o\n",
      "  \u001b[31m   \u001b[0m clang -Wsign-compare -Wunreachable-code -fno-common -dynamic -DNDEBUG -g -fwrapv -O3 -Wall -arch arm64 -arch x86_64 -g -Qunused-arguments -DMODULE_NAME=\\\"pysqlite3.dbapi2\\\" -I/usr/include -I/Library/Frameworks/Python.framework/Versions/3.11/include/python3.11 -c src/connection.c -o build/temp.macosx-10.9-universal2-cpython-311/src/connection.o\n",
      "  \u001b[31m   \u001b[0m src/connection.c:1107:10: warning: 'sqlite3_create_window_function' is only available on macOS 10.15 or newer [-Wunguarded-availability-new]\n",
      "  \u001b[31m   \u001b[0m     rc = sqlite3_create_window_function(\n",
      "  \u001b[31m   \u001b[0m          ^~~~~~~~~~~~~~~~~~~~~~~~~~~~~~\n",
      "  \u001b[31m   \u001b[0m /Library/Developer/CommandLineTools/SDKs/MacOSX.sdk/usr/include/sqlite3.h:5365:16: note: 'sqlite3_create_window_function' has been marked as being introduced in macOS 10.15 here, but the deployment target is macOS 10.9.0\n",
      "  \u001b[31m   \u001b[0m SQLITE_API int sqlite3_create_window_function(\n",
      "  \u001b[31m   \u001b[0m                ^\n",
      "  \u001b[31m   \u001b[0m src/connection.c:1107:10: note: enclose 'sqlite3_create_window_function' in a __builtin_available check to silence this warning\n",
      "  \u001b[31m   \u001b[0m     rc = sqlite3_create_window_function(\n",
      "  \u001b[31m   \u001b[0m          ^~~~~~~~~~~~~~~~~~~~~~~~~~~~~~\n",
      "  \u001b[31m   \u001b[0m src/connection.c:1328:10: error: implicit declaration of function 'sqlite3_enable_load_extension' is invalid in C99 [-Werror,-Wimplicit-function-declaration]\n",
      "  \u001b[31m   \u001b[0m     rc = sqlite3_enable_load_extension(self->db, onoff);\n",
      "  \u001b[31m   \u001b[0m          ^\n",
      "  \u001b[31m   \u001b[0m src/connection.c:1328:10: note: did you mean 'pysqlite_enable_load_extension'?\n",
      "  \u001b[31m   \u001b[0m src/connection.c:1315:18: note: 'pysqlite_enable_load_extension' declared here\n",
      "  \u001b[31m   \u001b[0m static PyObject* pysqlite_enable_load_extension(pysqlite_Connection* self, PyObject* args)\n",
      "  \u001b[31m   \u001b[0m                  ^\n",
      "  \u001b[31m   \u001b[0m src/connection.c:1352:10: error: implicit declaration of function 'sqlite3_load_extension' is invalid in C99 [-Werror,-Wimplicit-function-declaration]\n",
      "  \u001b[31m   \u001b[0m     rc = sqlite3_load_extension(self->db, extension_name, 0, &errmsg);\n",
      "  \u001b[31m   \u001b[0m          ^\n",
      "  \u001b[31m   \u001b[0m src/connection.c:1352:10: note: did you mean 'pysqlite_load_extension'?\n",
      "  \u001b[31m   \u001b[0m src/connection.c:1338:18: note: 'pysqlite_load_extension' declared here\n",
      "  \u001b[31m   \u001b[0m static PyObject* pysqlite_load_extension(pysqlite_Connection* self, PyObject* args)\n",
      "  \u001b[31m   \u001b[0m                  ^\n",
      "  \u001b[31m   \u001b[0m 1 warning and 2 errors generated.\n",
      "  \u001b[31m   \u001b[0m error: command '/usr/bin/clang' failed with exit code 1\n",
      "  \u001b[31m   \u001b[0m \u001b[31m[end of output]\u001b[0m\n",
      "  \n",
      "  \u001b[1;35mnote\u001b[0m: This error originates from a subprocess, and is likely not a problem with pip.\n",
      "\u001b[1;31merror\u001b[0m: \u001b[1mlegacy-install-failure\u001b[0m\n",
      "\n",
      "\u001b[31m×\u001b[0m Encountered error while trying to install package.\n",
      "\u001b[31m╰─>\u001b[0m pysqlite3\n",
      "\n",
      "\u001b[1;35mnote\u001b[0m: This is an issue with the package mentioned above, not pip.\n",
      "\u001b[1;36mhint\u001b[0m: See above for output from the failure.\n",
      "\u001b[?25h"
     ]
    }
   ],
   "source": [
    "!pip install pysqlite3"
   ]
  },
  {
   "cell_type": "code",
   "execution_count": 130,
   "id": "720e4484",
   "metadata": {},
   "outputs": [
    {
     "name": "stdout",
     "output_type": "stream",
     "text": [
      "Collecting pandas\n",
      "  Downloading pandas-1.5.3-cp311-cp311-macosx_11_0_arm64.whl (10.8 MB)\n",
      "\u001b[2K     \u001b[90m━━━━━━━━━━━━━━━━━━━━━━━━━━━━━━━━━━━━━━━━\u001b[0m \u001b[32m10.8/10.8 MB\u001b[0m \u001b[31m49.6 MB/s\u001b[0m eta \u001b[36m0:00:00\u001b[0ma \u001b[36m0:00:01\u001b[0m\n",
      "\u001b[?25hRequirement already satisfied: python-dateutil>=2.8.1 in /Library/Frameworks/Python.framework/Versions/3.11/lib/python3.11/site-packages (from pandas) (2.8.2)\n",
      "Collecting pytz>=2020.1\n",
      "  Downloading pytz-2022.7.1-py2.py3-none-any.whl (499 kB)\n",
      "\u001b[2K     \u001b[90m━━━━━━━━━━━━━━━━━━━━━━━━━━━━━━━━━━━━━━\u001b[0m \u001b[32m499.4/499.4 kB\u001b[0m \u001b[31m44.5 MB/s\u001b[0m eta \u001b[36m0:00:00\u001b[0m\n",
      "\u001b[?25hCollecting numpy>=1.21.0\n",
      "  Downloading numpy-1.24.2-cp311-cp311-macosx_11_0_arm64.whl (13.8 MB)\n",
      "\u001b[2K     \u001b[90m━━━━━━━━━━━━━━━━━━━━━━━━━━━━━━━━━━━━━━━━\u001b[0m \u001b[32m13.8/13.8 MB\u001b[0m \u001b[31m71.7 MB/s\u001b[0m eta \u001b[36m0:00:00\u001b[0ma \u001b[36m0:00:01\u001b[0m\n",
      "\u001b[?25hRequirement already satisfied: six>=1.5 in /Library/Frameworks/Python.framework/Versions/3.11/lib/python3.11/site-packages (from python-dateutil>=2.8.1->pandas) (1.16.0)\n",
      "Installing collected packages: pytz, numpy, pandas\n",
      "Successfully installed numpy-1.24.2 pandas-1.5.3 pytz-2022.7.1\n"
     ]
    }
   ],
   "source": [
    "!pip install pandas"
   ]
  },
  {
   "cell_type": "markdown",
   "id": "9208cf0a",
   "metadata": {},
   "source": [
    " "
   ]
  },
  {
   "cell_type": "code",
   "execution_count": 133,
   "id": "f3d33bb1",
   "metadata": {},
   "outputs": [],
   "source": [
    "#### -> Que 8 - Write SQL queries on the below database table that return: "
   ]
  },
  {
   "cell_type": "code",
   "execution_count": 144,
   "id": "c83ceb02",
   "metadata": {},
   "outputs": [],
   "source": [
    "import pandas as pd\n",
    "import sqlite3\n"
   ]
  },
  {
   "cell_type": "code",
   "execution_count": 163,
   "id": "2f1e8a75",
   "metadata": {},
   "outputs": [],
   "source": [
    "conn = sqlite3.connect('database.db')"
   ]
  },
  {
   "cell_type": "code",
   "execution_count": 164,
   "id": "e8a4df80",
   "metadata": {},
   "outputs": [],
   "source": [
    "cursor = conn.cursor()"
   ]
  },
  {
   "cell_type": "code",
   "execution_count": 165,
   "id": "be0424d6",
   "metadata": {},
   "outputs": [
    {
     "data": {
      "text/plain": [
       "<sqlite3.Cursor at 0x13f3fd040>"
      ]
     },
     "execution_count": 165,
     "metadata": {},
     "output_type": "execute_result"
    }
   ],
   "source": [
    "create_table_query = '''\n",
    "CREATE TABLE MyTable (\n",
    "    id INTEGER PRIMARY KEY,\n",
    "    name TEXT,\n",
    "    age INTEGER\n",
    ")\n",
    "'''\n",
    "cursor.execute(create_table_query)"
   ]
  },
  {
   "cell_type": "code",
   "execution_count": 166,
   "id": "566bfeea",
   "metadata": {},
   "outputs": [
    {
     "data": {
      "text/plain": [
       "<sqlite3.Cursor at 0x13f3fd040>"
      ]
     },
     "execution_count": 166,
     "metadata": {},
     "output_type": "execute_result"
    }
   ],
   "source": [
    "insert_data_query = '''\n",
    "INSERT INTO MyTable (name, age)\n",
    "VALUES (?, ?)\n",
    "'''\n",
    "data = [('John', 28), ('Jane', 35), ('Bob', 42)]\n",
    "cursor.executemany(insert_data_query, data)"
   ]
  },
  {
   "cell_type": "code",
   "execution_count": 168,
   "id": "fa30afe4",
   "metadata": {},
   "outputs": [],
   "source": [
    "conn.commit()"
   ]
  },
  {
   "cell_type": "code",
   "execution_count": 169,
   "id": "47626534",
   "metadata": {},
   "outputs": [
    {
     "name": "stdout",
     "output_type": "stream",
     "text": [
      "[(1, 'John', 28), (2, 'Jane', 35), (3, 'Bob', 42)]\n"
     ]
    }
   ],
   "source": [
    "select_query = '''\n",
    "SELECT * FROM MyTable\n",
    "'''\n",
    "cursor.execute(select_query)\n",
    "result = cursor.fetchall()\n",
    "print(result)\n"
   ]
  },
  {
   "cell_type": "code",
   "execution_count": 170,
   "id": "1b6c3702",
   "metadata": {},
   "outputs": [],
   "source": [
    "onn = sqlite3.connect('database8.db')"
   ]
  },
  {
   "cell_type": "code",
   "execution_count": 171,
   "id": "e3cad3c6",
   "metadata": {},
   "outputs": [],
   "source": [
    "cursor = conn.cursor()"
   ]
  },
  {
   "cell_type": "code",
   "execution_count": 172,
   "id": "ed943cd6",
   "metadata": {},
   "outputs": [
    {
     "data": {
      "text/plain": [
       "<sqlite3.Cursor at 0x13f3fd940>"
      ]
     },
     "execution_count": 172,
     "metadata": {},
     "output_type": "execute_result"
    }
   ],
   "source": [
    "create_table_query = '''\n",
    "CREATE TABLE que8 (\n",
    "    city varchar(30),\n",
    "    country varchar(30),\n",
    "    season varchar(30),\n",
    "    tem_c float,\n",
    "    rain_mm float\n",
    ")\n",
    "'''\n",
    "cursor.execute(create_table_query)"
   ]
  },
  {
   "cell_type": "code",
   "execution_count": 173,
   "id": "0de4b318",
   "metadata": {},
   "outputs": [
    {
     "data": {
      "text/plain": [
       "<sqlite3.Cursor at 0x13f3fd940>"
      ]
     },
     "execution_count": 173,
     "metadata": {},
     "output_type": "execute_result"
    }
   ],
   "source": [
    "insert_data_query = '''\n",
    "INSERT INTO que8 (city, country, season, tem_c, rain_mm)\n",
    "VALUES (?, ?, ?, ?, ?)\n",
    "'''\n",
    "data = [('Mumbai','India','Winter',24.8 , 5.9  ),('Mumbai','India','Spring',28.4 , 16.2     ),('Mumbai','India','Summer', 27.9 ,1549.4   ),('Mumbai','India','Fall',27.6,346.0  ),('London','Uk','Winter', 4.2 ,207.7   ),('London','Uk','Spring', 8.3 , 169.6    ),('London','Uk','Summer', 15.7  ,157.0   ),('London','Uk', 'Fall',10.4 ,218.5   ),('Cairo','Egypt','Winter',13.6 ,16.5    ),('Cairo','Egypt','Spring', 20.7 , 6.5   ),('Cairo','Egypt','Summer', 27.7 , 0.1  ),('Cairo','Egypt','Fall', 22.2  ,4.5  )]\n",
    "cursor.executemany(insert_data_query, data)"
   ]
  },
  {
   "cell_type": "code",
   "execution_count": 174,
   "id": "3b10e4a9",
   "metadata": {},
   "outputs": [],
   "source": [
    "conn.commit()"
   ]
  },
  {
   "cell_type": "code",
   "execution_count": 175,
   "id": "ecf1234f",
   "metadata": {},
   "outputs": [
    {
     "name": "stdout",
     "output_type": "stream",
     "text": [
      "[('Mumbai', 'India', 'Winter', 24.8, 5.9), ('Mumbai', 'India', 'Spring', 28.4, 16.2), ('Mumbai', 'India', 'Summer', 27.9, 1549.4), ('Mumbai', 'India', 'Fall', 27.6, 346.0), ('London', 'Uk', 'Winter', 4.2, 207.7), ('London', 'Uk', 'Spring', 8.3, 169.6), ('London', 'Uk', 'Summer', 15.7, 157.0), ('London', 'Uk', 'Fall', 10.4, 218.5), ('Cairo', 'Egypt', 'Winter', 13.6, 16.5), ('Cairo', 'Egypt', 'Spring', 20.7, 6.5), ('Cairo', 'Egypt', 'Summer', 27.7, 0.1), ('Cairo', 'Egypt', 'Fall', 22.2, 4.5)]\n"
     ]
    }
   ],
   "source": [
    "select_query = '''\n",
    "SELECT * FROM que8\n",
    "'''\n",
    "cursor.execute(select_query)\n",
    "result = cursor.fetchall()\n",
    "print(result)"
   ]
  },
  {
   "cell_type": "markdown",
   "id": "d2f06b4c",
   "metadata": {},
   "source": [
    "##### a)  -  All the temperature data. "
   ]
  },
  {
   "cell_type": "code",
   "execution_count": 177,
   "id": "11196698",
   "metadata": {},
   "outputs": [
    {
     "name": "stdout",
     "output_type": "stream",
     "text": [
      "[(24.8,), (28.4,), (27.9,), (27.6,), (4.2,), (8.3,), (15.7,), (10.4,), (13.6,), (20.7,), (27.7,), (22.2,)]\n"
     ]
    }
   ],
   "source": [
    "cursor.execute(\"SELECT tem_c FROM que8\")\n",
    "result = cursor.fetchall()\n",
    "print(result)"
   ]
  },
  {
   "cell_type": "markdown",
   "id": "a749ffc8",
   "metadata": {},
   "source": [
    "##### b) All the cities, but without repetition. "
   ]
  },
  {
   "cell_type": "code",
   "execution_count": 178,
   "id": "84c5db92",
   "metadata": {},
   "outputs": [
    {
     "name": "stdout",
     "output_type": "stream",
     "text": [
      "[('Mumbai',), ('London',), ('Cairo',)]\n"
     ]
    }
   ],
   "source": [
    "cursor.execute(\"SELECT DISTINCT City FROM que8\")\n",
    "'result = cursor.fetchall()\n",
    "print(result)"
   ]
  },
  {
   "cell_type": "markdown",
   "id": "973af66f",
   "metadata": {},
   "source": [
    "##### c) All the records for India. "
   ]
  },
  {
   "cell_type": "code",
   "execution_count": 181,
   "id": "2b760857",
   "metadata": {},
   "outputs": [
    {
     "name": "stdout",
     "output_type": "stream",
     "text": [
      "[('Mumbai', 'India', 'Winter', 24.8, 5.9), ('Mumbai', 'India', 'Spring', 28.4, 16.2), ('Mumbai', 'India', 'Summer', 27.9, 1549.4), ('Mumbai', 'India', 'Fall', 27.6, 346.0)]\n"
     ]
    }
   ],
   "source": [
    "cursor.execute(\"SELECT * FROM que8 WHERE country = 'India' \")\n",
    "result = cursor.fetchall()\n",
    "print(result)\n"
   ]
  },
  {
   "cell_type": "markdown",
   "id": "177d0a2f",
   "metadata": {},
   "source": [
    "##### d)  All the Fall records. "
   ]
  },
  {
   "cell_type": "code",
   "execution_count": 182,
   "id": "7f916d5a",
   "metadata": {},
   "outputs": [
    {
     "name": "stdout",
     "output_type": "stream",
     "text": [
      "[('Mumbai', 'India', 'Fall', 27.6, 346.0), ('London', 'Uk', 'Fall', 10.4, 218.5), ('Cairo', 'Egypt', 'Fall', 22.2, 4.5)]\n"
     ]
    }
   ],
   "source": [
    "cursor.execute(\"SELECT * FROM que8 WHERE season = 'Fall' \")\n",
    "result = cursor.fetchall()\n",
    "print(result)\n"
   ]
  },
  {
   "cell_type": "markdown",
   "id": "c1408227",
   "metadata": {},
   "source": [
    "##### e) The city, country, and season for which the average rainfall is between 200 and 400 millimeters. "
   ]
  },
  {
   "cell_type": "code",
   "execution_count": 184,
   "id": "e79353b1",
   "metadata": {},
   "outputs": [
    {
     "name": "stdout",
     "output_type": "stream",
     "text": [
      "[('Mumbai', 'India', 'Fall', 346.0), ('London', 'Uk', 'Winter', 207.7), ('London', 'Uk', 'Fall', 218.5)]\n"
     ]
    }
   ],
   "source": [
    "cursor.execute(\"SELECT city,country,season,rain_mm FROM que8 WHERE rain_mm BETWEEN 200 AND 400 \")\n",
    "result = cursor.fetchall()\n",
    "print(result)\n"
   ]
  },
  {
   "cell_type": "markdown",
   "id": "a99858d0",
   "metadata": {},
   "source": [
    "##### f) The city and country for which the average Fall temperature is above 20 degrees, in increasing temperature order. "
   ]
  },
  {
   "cell_type": "code",
   "execution_count": 195,
   "id": "6c449d1e",
   "metadata": {},
   "outputs": [
    {
     "name": "stdout",
     "output_type": "stream",
     "text": [
      "[('London', 'Uk')]\n"
     ]
    }
   ],
   "source": [
    "cursor.execute(\"SELECT city, country From que8 WHERE season = 'Fall' AND tem_c <= 20 \")\n",
    "result = cursor.fetchall()\n",
    "print(result)\n"
   ]
  },
  {
   "cell_type": "markdown",
   "id": "a3e6a527",
   "metadata": {},
   "source": [
    "##### g) The total annual rainfall for Cairo. "
   ]
  },
  {
   "cell_type": "code",
   "execution_count": 185,
   "id": "49decc35",
   "metadata": {},
   "outputs": [
    {
     "name": "stdout",
     "output_type": "stream",
     "text": [
      "[(27.6,)]\n"
     ]
    }
   ],
   "source": [
    "cursor.execute(\"SELECT SUM(rain_mm) FROM que8 WHERE city = 'Cairo' \")\n",
    "result = cursor.fetchall()\n",
    "print(result)"
   ]
  },
  {
   "cell_type": "markdown",
   "id": "7f4f1021",
   "metadata": {},
   "source": [
    "##### h) The total rainfall for each season. "
   ]
  },
  {
   "cell_type": "code",
   "execution_count": 186,
   "id": "62cee02c",
   "metadata": {},
   "outputs": [
    {
     "name": "stdout",
     "output_type": "stream",
     "text": [
      "[(230.1,)]\n"
     ]
    }
   ],
   "source": [
    "cursor.execute(\"SELECT SUM(rain_mm) FROM que8 WHERE season = 'Winter' \")\n",
    "result = cursor.fetchall()\n",
    "print(result)\n"
   ]
  },
  {
   "cell_type": "code",
   "execution_count": 187,
   "id": "4c845f85",
   "metadata": {},
   "outputs": [
    {
     "name": "stdout",
     "output_type": "stream",
     "text": [
      "[(192.29999999999998,)]\n"
     ]
    }
   ],
   "source": [
    "cursor.execute(\"SELECT SUM(rain_mm) FROM que8 WHERE season = 'Spring' \")\n",
    "result = cursor.fetchall()\n",
    "print(result)"
   ]
  },
  {
   "cell_type": "code",
   "execution_count": 188,
   "id": "b6550599",
   "metadata": {},
   "outputs": [
    {
     "name": "stdout",
     "output_type": "stream",
     "text": [
      "[(1706.5,)]\n"
     ]
    }
   ],
   "source": [
    "cursor.execute(\"SELECT SUM(rain_mm) FROM que8 WHERE season = 'Summer' \")\n",
    "result = cursor.fetchall()\n",
    "print(result)"
   ]
  },
  {
   "cell_type": "code",
   "execution_count": 189,
   "id": "73bb4a48",
   "metadata": {},
   "outputs": [
    {
     "name": "stdout",
     "output_type": "stream",
     "text": [
      "[(569.0,)]\n"
     ]
    }
   ],
   "source": [
    "cursor.execute(\"SELECT SUM(rain_mm) FROM que8 WHERE season = 'Fall' \")\n",
    "result = cursor.fetchall()\n",
    "print(result)"
   ]
  },
  {
   "cell_type": "markdown",
   "id": "6dcdc731",
   "metadata": {},
   "source": [
    " "
   ]
  },
  {
   "cell_type": "markdown",
   "id": "2ade1292",
   "metadata": {},
   "source": [
    "##### -> Que 9 -"
   ]
  },
  {
   "cell_type": "code",
   "execution_count": 197,
   "id": "f8dc7426",
   "metadata": {},
   "outputs": [],
   "source": [
    "words = ['The','quick','brown','fox','jumps','over','the','lazy','dog']\n"
   ]
  },
  {
   "cell_type": "code",
   "execution_count": 198,
   "id": "75e752b5",
   "metadata": {},
   "outputs": [
    {
     "name": "stdout",
     "output_type": "stream",
     "text": [
      "['THE', 'QUICK', 'BROWN', 'FOX', 'JUMPS', 'OVER', 'THE', 'LAZY', 'DOG']\n"
     ]
    }
   ],
   "source": [
    "uppW = [word.upper() for word in words] #a\n",
    "print(uppW)"
   ]
  },
  {
   "cell_type": "code",
   "execution_count": 199,
   "id": "10b504d6",
   "metadata": {},
   "outputs": [
    {
     "name": "stdout",
     "output_type": "stream",
     "text": [
      "['the', 'quick', 'brown', 'fox', 'jumps', 'over', 'the', 'lazy', 'dog']\n"
     ]
    }
   ],
   "source": [
    "lowW = [word.lower() for word in words] #b\n",
    "print(lowW)"
   ]
  },
  {
   "cell_type": "code",
   "execution_count": 200,
   "id": "92c84595",
   "metadata": {},
   "outputs": [
    {
     "name": "stdout",
     "output_type": "stream",
     "text": [
      "[3, 5, 5, 3, 5, 4, 3, 4, 3]\n"
     ]
    }
   ],
   "source": [
    "lengW = [len(word) for word in words] #c\n",
    "print(lengW)"
   ]
  },
  {
   "cell_type": "code",
   "execution_count": 201,
   "id": "b56d1a98",
   "metadata": {},
   "outputs": [
    {
     "name": "stdout",
     "output_type": "stream",
     "text": [
      "[('THE', 'the', 3), ('QUICK', 'quick', 5), ('BROWN', 'brown', 5), ('FOX', 'fox', 3), ('JUMPS', 'jumps', 5), ('OVER', 'over', 4), ('THE', 'the', 3), ('LAZY', 'lazy', 4), ('DOG', 'dog', 3)]\n"
     ]
    }
   ],
   "source": [
    "mixW= [(word.upper(),word.lower(),len(word)) for word in words] #d\n",
    "print(mixW)"
   ]
  },
  {
   "cell_type": "code",
   "execution_count": 202,
   "id": "b15479b2",
   "metadata": {},
   "outputs": [
    {
     "name": "stdout",
     "output_type": "stream",
     "text": [
      "['quick', 'brown', 'jumps', 'over', 'lazy']\n"
     ]
    }
   ],
   "source": [
    "greW4 = [word for word in words if len(word)>= 4] #e\n",
    "print(greW4)"
   ]
  },
  {
   "cell_type": "code",
   "execution_count": null,
   "id": "827b0059",
   "metadata": {},
   "outputs": [],
   "source": []
  }
 ],
 "metadata": {
  "kernelspec": {
   "display_name": "Python 3 (ipykernel)",
   "language": "python",
   "name": "python3"
  },
  "language_info": {
   "codemirror_mode": {
    "name": "ipython",
    "version": 3
   },
   "file_extension": ".py",
   "mimetype": "text/x-python",
   "name": "python",
   "nbconvert_exporter": "python",
   "pygments_lexer": "ipython3",
   "version": "3.11.2"
  }
 },
 "nbformat": 4,
 "nbformat_minor": 5
}
