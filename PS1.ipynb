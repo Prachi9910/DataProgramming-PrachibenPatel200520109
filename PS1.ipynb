{
  "metadata": {
    "language_info": {
      "codemirror_mode": {
        "name": "python",
        "version": 3
      },
      "file_extension": ".py",
      "mimetype": "text/x-python",
      "name": "python",
      "nbconvert_exporter": "python",
      "pygments_lexer": "ipython3",
      "version": "3.8"
    },
    "kernelspec": {
      "name": "python",
      "display_name": "Python (Pyodide)",
      "language": "python"
    }
  },
  "nbformat_minor": 4,
  "nbformat": 4,
  "cells": [
    {
      "cell_type": "markdown",
      "source": "# Problem Set 1 \n## Prachiben Patel - 200520109\n\n\n",
      "metadata": {}
    },
    {
      "cell_type": "markdown",
      "source": "##### --------------------------------------------------------------------------\n#\n####  -> Que 1 - What data type is each of the following (evaluate where necessary)? \n",
      "metadata": {}
    },
    {
      "cell_type": "code",
      "source": "import math\nprint(\"the data type of 5 : \", type(5))\nprint(\"the data type of 5.0 \",(type(5.0)))\nprint(\"the data type of 5>1 \",(type(5>1)))\nprint(\"the data type of '5' \",(type('5')))\nprint(\"the data type of 5 * 2 \", (type(5*2)))\nprint(\"the data tye of 5 + 2 \", (type(5+2)))\nprint(\"the data type of 5 / 2 \", (type(5/2)))\nprint(\"the data type of 5 % 2 \", (type(5%2)))\nprint(\"the data type of {5,2,1} \",(type({5,2,1})))\nprint(\"the data type of 5 == 3\",(type(3==5)))\n#print(math.pi)\nprint(\"the data type of Pi(the number) \", type(math.pi))",
      "metadata": {
        "trusted": true
      },
      "execution_count": 16,
      "outputs": [
        {
          "name": "stdout",
          "text": "the data type of 5 :  <class 'int'>\nthe data type of 5.0  <class 'float'>\nthe data type of 5>1  <class 'bool'>\nthe data type of '5'  <class 'str'>\nthe data type of 5 * 2  <class 'int'>\nthe data tye of 5 + 2  <class 'int'>\nthe data type of 5 / 2  <class 'float'>\nthe data type of 5 % 2  <class 'int'>\nthe data type of {5,2,1}  <class 'set'>\nthe data type of 5 == 3 <class 'bool'>\nthe data type of Pi(the number)  <class 'float'>\n",
          "output_type": "stream"
        }
      ]
    },
    {
      "cell_type": "markdown",
      "source": "#\n#### -> Que 2 - Write (and evaluate) python expressions that answer these questions:  ",
      "metadata": {}
    },
    {
      "cell_type": "code",
      "source": "print(\"- a. How many letters are there in 'Supercalifragilisticexpialidocious'? \",len('Supercalifragilisticexpialidocious'))\nprint(\"\\n- b. Does 'Supercalifragilisticexpialidocious' contain 'ice' as a substring? \",'ice' in 'Supercalifragilisticexpialidocious')\nprint(\"\\n- c. Which of the following words is the longest: \\n Supercalifragilisticexpialidocious, Honorificabilitudinitatibus, or Bababadalgharaghtakamminarronnkonn\")\ndt = ['Supercalifragilisticexpialidocious','Honorificabilitudinitatibus','Bababadalgharaghtakamminarronnkonn?']\nmax(dt)\nprint(\"\\n- d. Which composer comes first and  Which one comes lasti n the dictionary:'Berlioz', 'Borodin', 'Brian','Bartok', 'Bellini', 'Buxtehude', 'Bernstein'\")\nthe_list = ['Berlioz', 'Borodin', 'Brian','Bartok', 'Bellini', 'Buxtehude', 'Bernstein']\nthe_list.sort()\nprint(\"\\n-The first one is \",the_list[0])\nprint(\"\\n-The last one is \", the_list[-1])",
      "metadata": {
        "trusted": true
      },
      "execution_count": 24,
      "outputs": [
        {
          "name": "stdout",
          "text": "- a. How many letters are there in 'Supercalifragilisticexpialidocious'?  34\n\n- b. Does 'Supercalifragilisticexpialidocious' contain 'ice' as a substring?  True\n\n- c. Which of the following words is the longest: \n Supercalifragilisticexpialidocious, Honorificabilitudinitatibus, or Bababadalgharaghtakamminarronnkonn\n\n- d. Which composer comes first and  Which one comes lasti n the dictionary:'Berlioz', 'Borodin', 'Brian','Bartok', 'Bellini', 'Buxtehude', 'Bernstein'\n\n-The first one is  Bartok\n\n-The last one is  Buxtehude\n",
          "output_type": "stream"
        }
      ]
    },
    {
      "cell_type": "markdown",
      "source": "#\n#### -> Que 3 - Implement function triangleArea(a,b,c) that takes as input the lengths of the 3 sides of a triangle and returns the area of the triangle. By Heron's formula, the area of a triangle with side lengths a, b, and c is   s(s-a)(s-b)(s-c), where   s=(a+b+c)/2.  ",
      "metadata": {}
    },
    {
      "cell_type": "markdown",
      "source": "def area_of_tri(a,b,c):\n    s = (a+b+c) / 2\n    s1 = (s* ((s-a)* (s-b) * (s-c)))\n    y = s1**.5\n    return y\nprint(\"Area of (2,2,2) : \",area_of_tri(2,2,2))\n",
      "metadata": {}
    },
    {
      "cell_type": "markdown",
      "source": "#\n#### -> Que 4 - Write a program in python to separate odd and even integers in separate arrays. \n##### Go to the editor Test Data : \n##### Input the number of elements to be stored in the array :\n##### 5 Input 5 elements in the array : \n###### element - 0 : 25 \n###### element - 1 : 47 \n###### element - 2 : 42 \n###### element - 3 : 56 ",
      "metadata": {}
    },
    {
      "cell_type": "code",
      "source": "mainArray = [25,47,42,56,32]\nprint(\" So the our main Array is : \",mainArray)\neven_no = []\nodd_no = []\n\nfor x in mainArray:\n    if(x % 2 == 0):\n        even_no.append(x)\n    else:\n        odd_no.append(x)\n    \n    \nprint(\"- while our EVen no from that are : \",even_no)\n\nprint(\"- while our Odd no from that are : \",odd_no)",
      "metadata": {
        "trusted": true
      },
      "execution_count": 28,
      "outputs": [
        {
          "name": "stdout",
          "text": " So the our main Array is :  [25, 47, 42, 56, 32]\n- while our EVen no from that are :  [42, 56, 32]\n- while our Odd no from that are :  [25, 47]\n",
          "output_type": "stream"
        }
      ]
    },
    {
      "cell_type": "markdown",
      "source": "#\n#### -> Que 5 - \n##### a. Write a function inside(x,y,x1,y1,x2,y2) that returns True or False depending on whether the point (x,y) lies in the rectangle with lower left corner (x1,y1) and upper right corner (x2,y2). ",
      "metadata": {
        "tags": []
      }
    },
    {
      "cell_type": "code",
      "source": "def inside (x,y,x1,y1,x2,y2):\n    if (x == y and x1 == y1 and x2 == y2):\n        return True\n    else:\n        return False\nprint(inside(1,1,0,0,2,2))\nprint(inside(-1,-1,0,0,2,3))",
      "metadata": {
        "trusted": true
      },
      "execution_count": 29,
      "outputs": [
        {
          "name": "stdout",
          "text": "True\nFalse\n",
          "output_type": "stream"
        }
      ]
    },
    {
      "cell_type": "markdown",
      "source": "#####\n##### b. Use function inside() from part a. to write an expression that tests whether the point (1,1) lies in both of the following rectangles: one with lower left corner (0.3, 0.5) and upper right corner (1.1, 0.7) and the other with lower left corner (0.5, 0.2) and upper right corner (1.1, 2).  ",
      "metadata": {}
    },
    {
      "cell_type": "code",
      "source": "",
      "metadata": {},
      "execution_count": null,
      "outputs": []
    },
    {
      "cell_type": "markdown",
      "source": "#\n#### -> Que 6 - You can turn a word into pig-Latin using the following two rules (simplified):\n##### • If the word starts with a consonant, move that letter to the end and append 'ay'. For example, 'happy' becomes 'appyhay' and 'pencil' becomes 'encilpay'.\n##### • If the word starts with a vowel, simply append 'way' to the end of the word. For example, 'enter' becomes 'enterway' and 'other' becomes 'otherway' . For our purposes, there are 5 vowels: a, e, i, o, u (so we count y as a consonant). Write a function pig() that takes a word (i.e., a string) as input and returns its pigLatin form. Your function should still work if the input word contains upper case characters. Your output should always be lower case however.",
      "metadata": {}
    },
    {
      "cell_type": "code",
      "source": "def pig(word):\n    word = word.lower()\n    if word[0] in ['a','e','i','o','u']:\n        word = word + 'way'\n        return word\n    else:\n        word = word + word[0]\n        word = word[1:]\n        word = word +\"ay\"\n        return word\nprint(\"-The word HAPPY becomes \",pig('HAPPY'))\nprint(\"-The word ENTER becomes \",pig('ENTER'))\nprint(\"-The word Other becomes \",pig('Other'))\nprint(\"-The word Pencil becomes \",pig('Pencil'))\nprint(\"-The word Patel becomes \",pig('Patel'))\n",
      "metadata": {
        "trusted": true
      },
      "execution_count": 37,
      "outputs": [
        {
          "name": "stdout",
          "text": "-The word HAPPY becomes  appyhay\n-The word ENTER becomes  enterway\n-The word Other becomes  otherway\n-The word Pencil becomes  encilpay\n-The word Patel becomes  atelpay\n",
          "output_type": "stream"
        }
      ]
    },
    {
      "cell_type": "markdown",
      "source": "#\n#### -> Que 7 - File bloodtype1.txt records blood-types of patients (A, B, AB, O or OO) at a clinic. Write a function bldcount() that reads the file with name name and reports (i.e., prints) how many patients there are in each bloodtype. ",
      "metadata": {}
    },
    {
      "cell_type": "code",
      "source": "opee = open('bldty.txt','r')\nree = opee.read()\nprint(ree)\nprint(\"##\")\ndef bldcount():\n    path = 'bldty.txt'\n    nn= []\n    op = open(path,'r')\n    re = op.read()\n    op.close()\n    spp = re.split()\n    for i in range (len(spp)):\n        if spp[i] not in nn:\n            nn.append(spp[i])\n    for i in nn:\n        print ('There are {} patients with blood type {} ', format (spp.count(i),i))        \nbldcount()",
      "metadata": {
        "trusted": true
      },
      "execution_count": 70,
      "outputs": [
        {
          "name": "stdout",
          "text": "AB AB B O A A AB O AB A O O A A A O O O AB O A A A A A AB AB A AB O AB O A O O O AB O AB AB AB A A O \n##\n",
          "output_type": "stream"
        },
        {
          "ename": "<class 'ValueError'>",
          "evalue": "Invalid format specifier",
          "traceback": [
            "\u001b[0;31m---------------------------------------------------------------------------\u001b[0m",
            "\u001b[0;31mValueError\u001b[0m                                Traceback (most recent call last)",
            "Cell \u001b[0;32mIn[70], line 17\u001b[0m\n\u001b[1;32m     15\u001b[0m     \u001b[38;5;28;01mfor\u001b[39;00m i \u001b[38;5;129;01min\u001b[39;00m nn:\n\u001b[1;32m     16\u001b[0m         \u001b[38;5;28mprint\u001b[39m (\u001b[38;5;124m'\u001b[39m\u001b[38;5;124mThere are \u001b[39m\u001b[38;5;132;01m{}\u001b[39;00m\u001b[38;5;124m patients with blood type \u001b[39m\u001b[38;5;132;01m{}\u001b[39;00m\u001b[38;5;124m \u001b[39m\u001b[38;5;124m'\u001b[39m, \u001b[38;5;28mformat\u001b[39m (spp\u001b[38;5;241m.\u001b[39mcount(i),i))        \n\u001b[0;32m---> 17\u001b[0m \u001b[43mbldcount\u001b[49m\u001b[43m(\u001b[49m\u001b[43m)\u001b[49m\n",
            "Cell \u001b[0;32mIn[70], line 16\u001b[0m, in \u001b[0;36mbldcount\u001b[0;34m()\u001b[0m\n\u001b[1;32m     14\u001b[0m         nn\u001b[38;5;241m.\u001b[39mappend(spp[i])\n\u001b[1;32m     15\u001b[0m \u001b[38;5;28;01mfor\u001b[39;00m i \u001b[38;5;129;01min\u001b[39;00m nn:\n\u001b[0;32m---> 16\u001b[0m     \u001b[38;5;28mprint\u001b[39m (\u001b[38;5;124m'\u001b[39m\u001b[38;5;124mThere are \u001b[39m\u001b[38;5;132;01m{}\u001b[39;00m\u001b[38;5;124m patients with blood type \u001b[39m\u001b[38;5;132;01m{}\u001b[39;00m\u001b[38;5;124m \u001b[39m\u001b[38;5;124m'\u001b[39m, \u001b[38;5;28;43mformat\u001b[39;49m\u001b[43m \u001b[49m\u001b[43m(\u001b[49m\u001b[43mspp\u001b[49m\u001b[38;5;241;43m.\u001b[39;49m\u001b[43mcount\u001b[49m\u001b[43m(\u001b[49m\u001b[43mi\u001b[49m\u001b[43m)\u001b[49m\u001b[43m,\u001b[49m\u001b[43mi\u001b[49m\u001b[43m)\u001b[49m)\n",
            "\u001b[0;31mValueError\u001b[0m: Invalid format specifier"
          ],
          "output_type": "error"
        }
      ]
    },
    {
      "cell_type": "markdown",
      "source": "#\n#### Que 9 - Each of the following will cause an exception (an error). Identify what type of exception each will cause. ",
      "metadata": {}
    },
    {
      "cell_type": "code",
      "source": "print(\"- Trying to add incompatible variables, as inadding 6 + ‘a’\",6 + 'a')",
      "metadata": {
        "trusted": true
      },
      "execution_count": 56,
      "outputs": [
        {
          "ename": "<class 'TypeError'>",
          "evalue": "unsupported operand type(s) for +: 'int' and 'str'",
          "traceback": [
            "\u001b[0;31m---------------------------------------------------------------------------\u001b[0m",
            "\u001b[0;31mTypeError\u001b[0m                                 Traceback (most recent call last)",
            "Cell \u001b[0;32mIn[56], line 1\u001b[0m\n\u001b[0;32m----> 1\u001b[0m \u001b[38;5;28mprint\u001b[39m(\u001b[38;5;124m\"\u001b[39m\u001b[38;5;124m- Trying to add incompatible variables, as inadding 6 + ‘a’\u001b[39m\u001b[38;5;124m\"\u001b[39m,\u001b[38;5;241;43m6\u001b[39;49m\u001b[43m \u001b[49m\u001b[38;5;241;43m+\u001b[39;49m\u001b[43m \u001b[49m\u001b[38;5;124;43m'\u001b[39;49m\u001b[38;5;124;43ma\u001b[39;49m\u001b[38;5;124;43m'\u001b[39;49m)\n",
            "\u001b[0;31mTypeError\u001b[0m: unsupported operand type(s) for +: 'int' and 'str'"
          ],
          "output_type": "error"
        }
      ]
    },
    {
      "cell_type": "code",
      "source": "print(\"both has different data type\")",
      "metadata": {
        "trusted": true
      },
      "execution_count": 57,
      "outputs": [
        {
          "name": "stdout",
          "text": "both has different data type\n",
          "output_type": "stream"
        }
      ]
    },
    {
      "cell_type": "code",
      "source": "print(\"- Referring to the 12th item of a list that has only 10 items\")\nlist = [1,2,3,4,5,6,7,8,9,0]\nprint(list[12])",
      "metadata": {
        "trusted": true
      },
      "execution_count": 58,
      "outputs": [
        {
          "name": "stdout",
          "text": "- Referring to the 12th item of a list that has only 10 items\n",
          "output_type": "stream"
        },
        {
          "ename": "<class 'IndexError'>",
          "evalue": "list index out of range",
          "traceback": [
            "\u001b[0;31m---------------------------------------------------------------------------\u001b[0m",
            "\u001b[0;31mIndexError\u001b[0m                                Traceback (most recent call last)",
            "Cell \u001b[0;32mIn[58], line 3\u001b[0m\n\u001b[1;32m      1\u001b[0m \u001b[38;5;28mprint\u001b[39m(\u001b[38;5;124m\"\u001b[39m\u001b[38;5;124m- Referring to the 12th item of a list that has only 10 items\u001b[39m\u001b[38;5;124m\"\u001b[39m)\n\u001b[1;32m      2\u001b[0m \u001b[38;5;28mlist\u001b[39m \u001b[38;5;241m=\u001b[39m [\u001b[38;5;241m1\u001b[39m,\u001b[38;5;241m2\u001b[39m,\u001b[38;5;241m3\u001b[39m,\u001b[38;5;241m4\u001b[39m,\u001b[38;5;241m5\u001b[39m,\u001b[38;5;241m6\u001b[39m,\u001b[38;5;241m7\u001b[39m,\u001b[38;5;241m8\u001b[39m,\u001b[38;5;241m9\u001b[39m,\u001b[38;5;241m0\u001b[39m]\n\u001b[0;32m----> 3\u001b[0m \u001b[38;5;28mprint\u001b[39m(\u001b[38;5;28;43mlist\u001b[39;49m\u001b[43m[\u001b[49m\u001b[38;5;241;43m12\u001b[39;49m\u001b[43m]\u001b[49m)\n",
            "\u001b[0;31mIndexError\u001b[0m: list index out of range"
          ],
          "output_type": "error"
        }
      ]
    },
    {
      "cell_type": "code",
      "source": "print(\"out of range becoz there is no 12th eliment\")",
      "metadata": {
        "trusted": true
      },
      "execution_count": 59,
      "outputs": [
        {
          "name": "stdout",
          "text": "out of range becoz there is no 12th eliment\n",
          "output_type": "stream"
        }
      ]
    },
    {
      "cell_type": "code",
      "source": "print(\"- Using a value that is out of range for a function’s input, such as calling math.sqrt(-1.0)\")\nprint(math.sqrt(-1))",
      "metadata": {
        "trusted": true
      },
      "execution_count": 60,
      "outputs": [
        {
          "name": "stdout",
          "text": "- Using a value that is out of range for a function’s input, such as calling math.sqrt(-1.0)\n",
          "output_type": "stream"
        },
        {
          "ename": "<class 'ValueError'>",
          "evalue": "math domain error",
          "traceback": [
            "\u001b[0;31m---------------------------------------------------------------------------\u001b[0m",
            "\u001b[0;31mValueError\u001b[0m                                Traceback (most recent call last)",
            "Cell \u001b[0;32mIn[60], line 2\u001b[0m\n\u001b[1;32m      1\u001b[0m \u001b[38;5;28mprint\u001b[39m(\u001b[38;5;124m\"\u001b[39m\u001b[38;5;124m- Using a value that is out of range for a function’s input, such as calling math.sqrt(-1.0)\u001b[39m\u001b[38;5;124m\"\u001b[39m)\n\u001b[0;32m----> 2\u001b[0m \u001b[38;5;28mprint\u001b[39m(\u001b[43mmath\u001b[49m\u001b[38;5;241;43m.\u001b[39;49m\u001b[43msqrt\u001b[49m\u001b[43m(\u001b[49m\u001b[38;5;241;43m-\u001b[39;49m\u001b[38;5;241;43m1\u001b[39;49m\u001b[43m)\u001b[49m)\n",
            "\u001b[0;31mValueError\u001b[0m: math domain error"
          ],
          "output_type": "error"
        }
      ]
    },
    {
      "cell_type": "code",
      "source": "print(\"square root can not be performed of minus values\")",
      "metadata": {
        "trusted": true
      },
      "execution_count": 61,
      "outputs": [
        {
          "name": "stdout",
          "text": "square root can not be performed of minus values\n",
          "output_type": "stream"
        }
      ]
    },
    {
      "cell_type": "code",
      "source": "print(\"- Using an undeclared variable, such asp rint(x) when x has not been defined\")\nprint(xx)",
      "metadata": {
        "trusted": true
      },
      "execution_count": 62,
      "outputs": [
        {
          "name": "stdout",
          "text": "- Using an undeclared variable, such asp rint(x) when x has not been defined\n",
          "output_type": "stream"
        },
        {
          "ename": "<class 'NameError'>",
          "evalue": "name 'xx' is not defined",
          "traceback": [
            "\u001b[0;31m---------------------------------------------------------------------------\u001b[0m",
            "\u001b[0;31mNameError\u001b[0m                                 Traceback (most recent call last)",
            "Cell \u001b[0;32mIn[62], line 2\u001b[0m\n\u001b[1;32m      1\u001b[0m \u001b[38;5;28mprint\u001b[39m(\u001b[38;5;124m\"\u001b[39m\u001b[38;5;124m- Using an undeclared variable, such asp rint(x) when x has not been defined\u001b[39m\u001b[38;5;124m\"\u001b[39m)\n\u001b[0;32m----> 2\u001b[0m \u001b[38;5;28mprint\u001b[39m(\u001b[43mxx\u001b[49m)\n",
            "\u001b[0;31mNameError\u001b[0m: name 'xx' is not defined"
          ],
          "output_type": "error"
        }
      ]
    },
    {
      "cell_type": "code",
      "source": "print(\"as becoz there is xx is not defined for any data value\")",
      "metadata": {
        "trusted": true
      },
      "execution_count": 63,
      "outputs": [
        {
          "name": "stdout",
          "text": "as becoz there is xx is not defined for any data value\n",
          "output_type": "stream"
        }
      ]
    },
    {
      "cell_type": "code",
      "source": "print(\"Trying to open a file that does not exist, such asmistyping the file name or looking in the wrongdirectory.\")\npath = \"C:\\ldcount.txt\"\nop = open(path, 'r')\nre = op.read()\nop.close()\nprint(re)",
      "metadata": {
        "trusted": true
      },
      "execution_count": 64,
      "outputs": [
        {
          "name": "stdout",
          "text": "Trying to open a file that does not exist, such asmistyping the file name or looking in the wrongdirectory.\n",
          "output_type": "stream"
        },
        {
          "ename": "<class 'FileNotFoundError'>",
          "evalue": "[Errno 44] No such file or directory: 'C:\\\\ldcount.txt'",
          "traceback": [
            "\u001b[0;31m---------------------------------------------------------------------------\u001b[0m",
            "\u001b[0;31mFileNotFoundError\u001b[0m                         Traceback (most recent call last)",
            "Cell \u001b[0;32mIn[64], line 3\u001b[0m\n\u001b[1;32m      1\u001b[0m \u001b[38;5;28mprint\u001b[39m(\u001b[38;5;124m\"\u001b[39m\u001b[38;5;124mTrying to open a file that does not exist, such asmistyping the file name or looking in the wrongdirectory.\u001b[39m\u001b[38;5;124m\"\u001b[39m)\n\u001b[1;32m      2\u001b[0m path \u001b[38;5;241m=\u001b[39m \u001b[38;5;124m\"\u001b[39m\u001b[38;5;124mC:\u001b[39m\u001b[38;5;124m\\\u001b[39m\u001b[38;5;124mldcount.txt\u001b[39m\u001b[38;5;124m\"\u001b[39m\n\u001b[0;32m----> 3\u001b[0m op \u001b[38;5;241m=\u001b[39m \u001b[38;5;28;43mopen\u001b[39;49m\u001b[43m(\u001b[49m\u001b[43mpath\u001b[49m\u001b[43m,\u001b[49m\u001b[43m \u001b[49m\u001b[38;5;124;43m'\u001b[39;49m\u001b[38;5;124;43mr\u001b[39;49m\u001b[38;5;124;43m'\u001b[39;49m\u001b[43m)\u001b[49m\n\u001b[1;32m      4\u001b[0m re \u001b[38;5;241m=\u001b[39m op\u001b[38;5;241m.\u001b[39mread()\n\u001b[1;32m      5\u001b[0m op\u001b[38;5;241m.\u001b[39mclose()\n",
            "File \u001b[0;32m/lib/python3.10/site-packages/IPython/core/interactiveshell.py:282\u001b[0m, in \u001b[0;36m_modified_open\u001b[0;34m(file, *args, **kwargs)\u001b[0m\n\u001b[1;32m    275\u001b[0m \u001b[38;5;28;01mif\u001b[39;00m file \u001b[38;5;129;01min\u001b[39;00m {\u001b[38;5;241m0\u001b[39m, \u001b[38;5;241m1\u001b[39m, \u001b[38;5;241m2\u001b[39m}:\n\u001b[1;32m    276\u001b[0m     \u001b[38;5;28;01mraise\u001b[39;00m \u001b[38;5;167;01mValueError\u001b[39;00m(\n\u001b[1;32m    277\u001b[0m         \u001b[38;5;124mf\u001b[39m\u001b[38;5;124m\"\u001b[39m\u001b[38;5;124mIPython won\u001b[39m\u001b[38;5;124m'\u001b[39m\u001b[38;5;124mt let you open fd=\u001b[39m\u001b[38;5;132;01m{\u001b[39;00mfile\u001b[38;5;132;01m}\u001b[39;00m\u001b[38;5;124m by default \u001b[39m\u001b[38;5;124m\"\u001b[39m\n\u001b[1;32m    278\u001b[0m         \u001b[38;5;124m\"\u001b[39m\u001b[38;5;124mas it is likely to crash IPython. If you know what you are doing, \u001b[39m\u001b[38;5;124m\"\u001b[39m\n\u001b[1;32m    279\u001b[0m         \u001b[38;5;124m\"\u001b[39m\u001b[38;5;124myou can use builtins\u001b[39m\u001b[38;5;124m'\u001b[39m\u001b[38;5;124m open.\u001b[39m\u001b[38;5;124m\"\u001b[39m\n\u001b[1;32m    280\u001b[0m     )\n\u001b[0;32m--> 282\u001b[0m \u001b[38;5;28;01mreturn\u001b[39;00m io_open(file, \u001b[38;5;241m*\u001b[39margs, \u001b[38;5;241m*\u001b[39m\u001b[38;5;241m*\u001b[39mkwargs)\n",
            "\u001b[0;31mFileNotFoundError\u001b[0m: [Errno 44] No such file or directory: 'C:\\\\ldcount.txt'"
          ],
          "output_type": "error"
        }
      ]
    },
    {
      "cell_type": "code",
      "source": "print(\"as file is not existing so \")",
      "metadata": {
        "trusted": true
      },
      "execution_count": 71,
      "outputs": [
        {
          "name": "stdout",
          "text": "as file is not existing so \n",
          "output_type": "stream"
        }
      ]
    },
    {
      "cell_type": "code",
      "source": "",
      "metadata": {},
      "execution_count": null,
      "outputs": []
    }
  ]
}